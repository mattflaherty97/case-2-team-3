{
 "cells": [
  {
   "cell_type": "code",
   "execution_count": 1,
   "id": "a9f5cc66",
   "metadata": {},
   "outputs": [],
   "source": [
    "import numpy as np\n",
    "import pandas as pd\n",
    "from sklearn.model_selection import train_test_split\n",
    "from imblearn.over_sampling import SMOTE\n",
    "from sklearn.preprocessing import LabelEncoder\n",
    "from imblearn.over_sampling import SMOTE\n",
    "from sklearn.metrics import f1_score,classification_report,plot_confusion_matrix,plot_roc_curve\n",
    "from sklearn.metrics import confusion_matrix\n",
    "import seaborn as sns\n",
    "from sklearn.metrics import accuracy_score\n",
    "from sklearn.metrics import recall_score"
   ]
  },
  {
   "cell_type": "code",
   "execution_count": 2,
   "id": "e2ddd165",
   "metadata": {},
   "outputs": [],
   "source": [
    "test = pd.read_csv(\"../Data/test_data.csv\")\n",
    "train = pd.read_csv(\"../Data/train_data.csv\")"
   ]
  },
  {
   "cell_type": "code",
   "execution_count": 3,
   "id": "dca7a73f",
   "metadata": {},
   "outputs": [],
   "source": [
    "cols_to_encode= ['Married/Single','House_Ownership','Car_Ownership','Profession','CITY','STATE']\n",
    "labelencoder = LabelEncoder()\n",
    "\n",
    "for col in cols_to_encode:\n",
    "    train[col] = labelencoder.fit_transform(train[col])"
   ]
  },
  {
   "cell_type": "code",
   "execution_count": 4,
   "id": "26e0d65b",
   "metadata": {},
   "outputs": [],
   "source": [
    "train.drop(['Id'],axis=1,inplace=True)"
   ]
  },
  {
   "cell_type": "code",
   "execution_count": 5,
   "id": "3bc4c054",
   "metadata": {},
   "outputs": [
    {
     "data": {
      "text/plain": "         Income  Age  Experience  Married/Single  House_Ownership  \\\n0       1303834   23           3               1                2   \n1       7574516   40          10               1                2   \n2       3991815   66           4               0                2   \n3       6256451   41           2               1                2   \n4       5768871   47          11               1                2   \n...         ...  ...         ...             ...              ...   \n251995  8154883   43          13               1                2   \n251996  2843572   26          10               1                2   \n251997  4522448   46           7               1                2   \n251998  6507128   45           0               1                2   \n251999  9070230   70          17               1                2   \n\n        Car_Ownership  Profession  CITY  STATE  CURRENT_JOB_YRS  \\\n0                   0          33   251     13                3   \n1                   0          43   227     14                9   \n2                   0          47     8     12                4   \n3                   1          43    54     17                2   \n4                   0          11   296     22                3   \n...               ...         ...   ...    ...              ...   \n251995              0          45   162     28                6   \n251996              0           3   251     13                6   \n251997              0          17   144     14                7   \n251998              0          27   233     18                0   \n251999              0          44    26     22                7   \n\n        CURRENT_HOUSE_YRS  Risk_Flag  \n0                      13          0  \n1                      13          0  \n2                      10          0  \n3                      12          1  \n4                      14          1  \n...                   ...        ...  \n251995                 11          0  \n251996                 11          0  \n251997                 12          0  \n251998                 10          0  \n251999                 11          0  \n\n[252000 rows x 12 columns]",
      "text/html": "<div>\n<style scoped>\n    .dataframe tbody tr th:only-of-type {\n        vertical-align: middle;\n    }\n\n    .dataframe tbody tr th {\n        vertical-align: top;\n    }\n\n    .dataframe thead th {\n        text-align: right;\n    }\n</style>\n<table border=\"1\" class=\"dataframe\">\n  <thead>\n    <tr style=\"text-align: right;\">\n      <th></th>\n      <th>Income</th>\n      <th>Age</th>\n      <th>Experience</th>\n      <th>Married/Single</th>\n      <th>House_Ownership</th>\n      <th>Car_Ownership</th>\n      <th>Profession</th>\n      <th>CITY</th>\n      <th>STATE</th>\n      <th>CURRENT_JOB_YRS</th>\n      <th>CURRENT_HOUSE_YRS</th>\n      <th>Risk_Flag</th>\n    </tr>\n  </thead>\n  <tbody>\n    <tr>\n      <th>0</th>\n      <td>1303834</td>\n      <td>23</td>\n      <td>3</td>\n      <td>1</td>\n      <td>2</td>\n      <td>0</td>\n      <td>33</td>\n      <td>251</td>\n      <td>13</td>\n      <td>3</td>\n      <td>13</td>\n      <td>0</td>\n    </tr>\n    <tr>\n      <th>1</th>\n      <td>7574516</td>\n      <td>40</td>\n      <td>10</td>\n      <td>1</td>\n      <td>2</td>\n      <td>0</td>\n      <td>43</td>\n      <td>227</td>\n      <td>14</td>\n      <td>9</td>\n      <td>13</td>\n      <td>0</td>\n    </tr>\n    <tr>\n      <th>2</th>\n      <td>3991815</td>\n      <td>66</td>\n      <td>4</td>\n      <td>0</td>\n      <td>2</td>\n      <td>0</td>\n      <td>47</td>\n      <td>8</td>\n      <td>12</td>\n      <td>4</td>\n      <td>10</td>\n      <td>0</td>\n    </tr>\n    <tr>\n      <th>3</th>\n      <td>6256451</td>\n      <td>41</td>\n      <td>2</td>\n      <td>1</td>\n      <td>2</td>\n      <td>1</td>\n      <td>43</td>\n      <td>54</td>\n      <td>17</td>\n      <td>2</td>\n      <td>12</td>\n      <td>1</td>\n    </tr>\n    <tr>\n      <th>4</th>\n      <td>5768871</td>\n      <td>47</td>\n      <td>11</td>\n      <td>1</td>\n      <td>2</td>\n      <td>0</td>\n      <td>11</td>\n      <td>296</td>\n      <td>22</td>\n      <td>3</td>\n      <td>14</td>\n      <td>1</td>\n    </tr>\n    <tr>\n      <th>...</th>\n      <td>...</td>\n      <td>...</td>\n      <td>...</td>\n      <td>...</td>\n      <td>...</td>\n      <td>...</td>\n      <td>...</td>\n      <td>...</td>\n      <td>...</td>\n      <td>...</td>\n      <td>...</td>\n      <td>...</td>\n    </tr>\n    <tr>\n      <th>251995</th>\n      <td>8154883</td>\n      <td>43</td>\n      <td>13</td>\n      <td>1</td>\n      <td>2</td>\n      <td>0</td>\n      <td>45</td>\n      <td>162</td>\n      <td>28</td>\n      <td>6</td>\n      <td>11</td>\n      <td>0</td>\n    </tr>\n    <tr>\n      <th>251996</th>\n      <td>2843572</td>\n      <td>26</td>\n      <td>10</td>\n      <td>1</td>\n      <td>2</td>\n      <td>0</td>\n      <td>3</td>\n      <td>251</td>\n      <td>13</td>\n      <td>6</td>\n      <td>11</td>\n      <td>0</td>\n    </tr>\n    <tr>\n      <th>251997</th>\n      <td>4522448</td>\n      <td>46</td>\n      <td>7</td>\n      <td>1</td>\n      <td>2</td>\n      <td>0</td>\n      <td>17</td>\n      <td>144</td>\n      <td>14</td>\n      <td>7</td>\n      <td>12</td>\n      <td>0</td>\n    </tr>\n    <tr>\n      <th>251998</th>\n      <td>6507128</td>\n      <td>45</td>\n      <td>0</td>\n      <td>1</td>\n      <td>2</td>\n      <td>0</td>\n      <td>27</td>\n      <td>233</td>\n      <td>18</td>\n      <td>0</td>\n      <td>10</td>\n      <td>0</td>\n    </tr>\n    <tr>\n      <th>251999</th>\n      <td>9070230</td>\n      <td>70</td>\n      <td>17</td>\n      <td>1</td>\n      <td>2</td>\n      <td>0</td>\n      <td>44</td>\n      <td>26</td>\n      <td>22</td>\n      <td>7</td>\n      <td>11</td>\n      <td>0</td>\n    </tr>\n  </tbody>\n</table>\n<p>252000 rows × 12 columns</p>\n</div>"
     },
     "execution_count": 5,
     "metadata": {},
     "output_type": "execute_result"
    }
   ],
   "source": [
    "train"
   ]
  },
  {
   "cell_type": "code",
   "execution_count": 6,
   "id": "9040558e",
   "metadata": {},
   "outputs": [],
   "source": [
    "X = train.drop('Risk_Flag',axis=1)\n",
    "y = train['Risk_Flag']"
   ]
  },
  {
   "cell_type": "code",
   "execution_count": 7,
   "id": "efd5c0b6",
   "metadata": {},
   "outputs": [],
   "source": [
    "X_train, X_test, y_train, y_test = train_test_split(X, y, test_size=0.3)"
   ]
  },
  {
   "cell_type": "code",
   "execution_count": 8,
   "id": "5b4f7e54",
   "metadata": {},
   "outputs": [],
   "source": [
    "oversample = SMOTE()\n",
    "X_train, y_train = oversample.fit_resample(X_train, y_train)"
   ]
  },
  {
   "cell_type": "code",
   "execution_count": 9,
   "id": "57a26b56",
   "metadata": {},
   "outputs": [],
   "source": [
    "from sklearn.linear_model import LogisticRegression\n",
    "\n",
    "lr = LogisticRegression()\n",
    "lr.fit(X_train,y_train)\n",
    "lr_predictions = lr.predict(X_test)"
   ]
  },
  {
   "cell_type": "code",
   "execution_count": 10,
   "id": "618a0b07",
   "metadata": {},
   "outputs": [
    {
     "data": {
      "text/plain": "<AxesSubplot:>"
     },
     "execution_count": 10,
     "metadata": {},
     "output_type": "execute_result"
    },
    {
     "data": {
      "text/plain": "<Figure size 432x288 with 2 Axes>",
      "image/png": "[encoded data removed]"
     },
     "metadata": {
      "needs_background": "light"
     },
     "output_type": "display_data"
    }
   ],
   "source": [
    "dct_cfm = confusion_matrix(y_test,lr_predictions)\n",
    "\n",
    "group_counts = ['{0:0.0f}'.format(value) for value in\n",
    "                dct_cfm.flatten()]\n",
    "group_percentages = ['{0:.2%}'.format(value) for value in\n",
    "                     dct_cfm.flatten()/np.sum(dct_cfm)]\n",
    "labels = [f'{v2}\\n{v3}' for  v2, v3 in\n",
    "          zip(group_counts,group_percentages)]\n",
    "labels = np.asarray(labels).reshape(2,2)\n",
    "sns.heatmap(dct_cfm, annot=labels, fmt='', cmap='Blues')"
   ]
  },
  {
   "cell_type": "code",
   "execution_count": 11,
   "id": "6ecb38a4",
   "metadata": {},
   "outputs": [
    {
     "data": {
      "text/plain": "0.8773544973544973"
     },
     "execution_count": 11,
     "metadata": {},
     "output_type": "execute_result"
    }
   ],
   "source": [
    "accuracy_score(y_test, lr_predictions)\n"
   ]
  },
  {
   "cell_type": "code",
   "execution_count": 12,
   "id": "90bb319b",
   "metadata": {},
   "outputs": [
    {
     "data": {
      "text/plain": "0.0"
     },
     "execution_count": 12,
     "metadata": {},
     "output_type": "execute_result"
    }
   ],
   "source": [
    "recall_score(y_test, lr_predictions)"
   ]
  },
  {
   "cell_type": "code",
   "execution_count": 13,
   "id": "5f585d53",
   "metadata": {},
   "outputs": [],
   "source": [
    "from sklearn.tree import DecisionTreeClassifier\n",
    "\n",
    "dt = DecisionTreeClassifier()\n",
    "dt.fit(X_train,y_train)\n",
    "pred = dt.predict(X_test)"
   ]
  },
  {
   "cell_type": "code",
   "execution_count": 14,
   "id": "9e3e2765",
   "metadata": {},
   "outputs": [
    {
     "data": {
      "text/plain": "<AxesSubplot:>"
     },
     "execution_count": 14,
     "metadata": {},
     "output_type": "execute_result"
    },
    {
     "data": {
      "text/plain": "<Figure size 432x288 with 2 Axes>",
      "image/png": "[encoded data removed]"
     },
     "metadata": {
      "needs_background": "light"
     },
     "output_type": "display_data"
    }
   ],
   "source": [
    "dct_cfm = confusion_matrix(y_test,pred)\n",
    "\n",
    "group_counts = ['{0:0.0f}'.format(value) for value in\n",
    "                dct_cfm.flatten()]\n",
    "group_percentages = ['{0:.2%}'.format(value) for value in\n",
    "                     dct_cfm.flatten()/np.sum(dct_cfm)]\n",
    "labels = [f'{v2}\\n{v3}' for  v2, v3 in\n",
    "          zip(group_counts,group_percentages)]\n",
    "labels = np.asarray(labels).reshape(2,2)\n",
    "sns.heatmap(dct_cfm, annot=labels, fmt='', cmap='Blues')"
   ]
  },
  {
   "cell_type": "code",
   "execution_count": 15,
   "id": "5e9575ea",
   "metadata": {},
   "outputs": [
    {
     "data": {
      "text/plain": "0.8647619047619047"
     },
     "execution_count": 15,
     "metadata": {},
     "output_type": "execute_result"
    }
   ],
   "source": [
    "accuracy_score(y_test, pred)"
   ]
  },
  {
   "cell_type": "code",
   "execution_count": 16,
   "id": "3527515d",
   "metadata": {},
   "outputs": [
    {
     "data": {
      "text/plain": "0.8565573770491803"
     },
     "execution_count": 16,
     "metadata": {},
     "output_type": "execute_result"
    }
   ],
   "source": [
    "recall_score(y_test, pred)"
   ]
  },
  {
   "cell_type": "code",
   "execution_count": 16,
   "id": "22f63fb5",
   "metadata": {},
   "outputs": [],
   "source": []
  }
 ],
 "metadata": {
  "kernelspec": {
   "display_name": "Python 3",
   "language": "python",
   "name": "python3"
  },
  "language_info": {
   "codemirror_mode": {
    "name": "ipython",
    "version": 3
   },
   "file_extension": ".py",
   "mimetype": "text/x-python",
   "name": "python",
   "nbconvert_exporter": "python",
   "pygments_lexer": "ipython3",
   "version": "3.8.8"
  }
 },
 "nbformat": 4,
 "nbformat_minor": 5
}