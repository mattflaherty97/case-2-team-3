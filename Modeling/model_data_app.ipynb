{
 "cells": [
  {
   "cell_type": "code",
   "execution_count": 1,
   "metadata": {},
   "outputs": [],
   "source": [
    "import pandas as pd\n",
    "import numpy as np"
   ]
  },
  {
   "cell_type": "code",
   "execution_count": 2,
   "metadata": {},
   "outputs": [],
   "source": [
    "def encoding(df):\n",
    "    df['Married/Single'].replace({'single': 0, 'married': 1}, inplace=True)\n",
    "    df['House_Ownership'].replace({'rented': 0, 'norent_noown': 1, 'owned': 2}, inplace=True)\n",
    "    df['Car_Ownership'].replace({'no': 0, 'yes': 1}, inplace=True)\n",
    "    return(df)"
   ]
  },
  {
   "cell_type": "code",
   "execution_count": 3,
   "metadata": {},
   "outputs": [],
   "source": [
    "train = pd.read_csv(\"https://raw.githubusercontent.com/mattflaherty97/case-2-team-3/main/Data/train_data.csv\")\n",
    "gdp_states = pd.read_csv(\"https://raw.githubusercontent.com/mattflaherty97/case-2-team-3/main/Data/gdp_states.csv\")"
   ]
  },
  {
   "cell_type": "code",
   "execution_count": 4,
   "metadata": {},
   "outputs": [],
   "source": [
    "train = encoding(train)"
   ]
  },
  {
   "cell_type": "code",
   "execution_count": 5,
   "metadata": {},
   "outputs": [],
   "source": [
    "# concat GDP\n",
    "GDP = []\n",
    "for temp_t in train.STATE[:]:\n",
    "    if temp_t == \"Jammu_and_Kashmir\":\n",
    "        temp_t = \"Jammu & Kashmir\"\n",
    "    if temp_t == \"Uttar_Pradesh[5]\":\n",
    "        temp_t = \"Uttar Pradesh\"\n",
    "    GDP.append(float(gdp_states[gdp_states['State'] == temp_t.replace(\"_\", \" \")][\"GDP ($billion)\"].values[0]))\n",
    "    \n",
    "train[\"GDP\"] = GDP"
   ]
  },
  {
   "cell_type": "code",
   "execution_count": 6,
   "metadata": {},
   "outputs": [],
   "source": [
    "output = train.drop(['Risk_Flag', 'Id'], axis = 'columns')"
   ]
  },
  {
   "cell_type": "code",
   "execution_count": 8,
   "metadata": {},
   "outputs": [],
   "source": [
    "output.to_csv(\"../Data/app_data.csv\", index = False)"
   ]
  }
 ],
 "metadata": {
  "kernelspec": {
   "display_name": "Python 3",
   "language": "python",
   "name": "python3"
  },
  "language_info": {
   "codemirror_mode": {
    "name": "ipython",
    "version": 3
   },
   "file_extension": ".py",
   "mimetype": "text/x-python",
   "name": "python",
   "nbconvert_exporter": "python",
   "pygments_lexer": "ipython3",
   "version": "3.8.11"
  }
 },
 "nbformat": 4,
 "nbformat_minor": 4
}
