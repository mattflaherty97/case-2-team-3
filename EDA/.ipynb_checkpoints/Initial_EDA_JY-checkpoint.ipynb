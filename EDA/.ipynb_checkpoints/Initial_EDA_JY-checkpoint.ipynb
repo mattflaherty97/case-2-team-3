{
 "cells": [
  {
   "cell_type": "code",
   "execution_count": 1,
   "metadata": {},
   "outputs": [
    {
     "ename": "ModuleNotFoundError",
     "evalue": "No module named 'plotly'",
     "output_type": "error",
     "traceback": [
      "\u001b[1;31m---------------------------------------------------------------------------\u001b[0m",
      "\u001b[1;31mModuleNotFoundError\u001b[0m                       Traceback (most recent call last)",
      "\u001b[1;32m<ipython-input-1-e9f7b76c0eaa>\u001b[0m in \u001b[0;36m<module>\u001b[1;34m\u001b[0m\n\u001b[0;32m     25\u001b[0m \u001b[1;33m\u001b[0m\u001b[0m\n\u001b[0;32m     26\u001b[0m \u001b[1;31m# Data Visualization : Plotly library\u001b[0m\u001b[1;33m\u001b[0m\u001b[1;33m\u001b[0m\u001b[1;33m\u001b[0m\u001b[0m\n\u001b[1;32m---> 27\u001b[1;33m \u001b[1;32mimport\u001b[0m \u001b[0mplotly\u001b[0m\u001b[1;33m.\u001b[0m\u001b[0mexpress\u001b[0m \u001b[1;32mas\u001b[0m \u001b[0mpx\u001b[0m\u001b[1;33m\u001b[0m\u001b[1;33m\u001b[0m\u001b[0m\n\u001b[0m\u001b[0;32m     28\u001b[0m \u001b[1;33m\u001b[0m\u001b[0m\n\u001b[0;32m     29\u001b[0m \u001b[1;32mimport\u001b[0m \u001b[0mplotly\u001b[0m\u001b[1;33m.\u001b[0m\u001b[0mgraph_objects\u001b[0m \u001b[1;32mas\u001b[0m \u001b[0mgo\u001b[0m\u001b[1;33m\u001b[0m\u001b[1;33m\u001b[0m\u001b[0m\n",
      "\u001b[1;31mModuleNotFoundError\u001b[0m: No module named 'plotly'"
     ]
    }
   ],
   "source": [
    "import numpy as np\n",
    "import pandas as pd\n",
    "\n",
    "from sklearn import preprocessing\n",
    "from sklearn.model_selection import train_test_split\n",
    "from sklearn import linear_model\n",
    "from sklearn.metrics import roc_auc_score\n",
    "\n",
    "from sklearn.tree import DecisionTreeRegressor \n",
    "from sklearn.ensemble import RandomForestRegressor\n",
    "\n",
    "import warnings \n",
    "warnings.filterwarnings('ignore')\n",
    "import os \n",
    "    \n",
    "# Data View\n",
    "pd.options.display.max_columns = 200\n",
    "\n",
    "\n",
    "# Import Basic Visualization\n",
    "import seaborn as sns\n",
    "sns.set()\n",
    "import matplotlib.pyplot as plt\n",
    "%matplotlib inline\n",
    "    \n",
    "# Data Visualization : Plotly library \n",
    "import plotly.express as px\n",
    "    \n",
    "import plotly.graph_objects as go\n",
    "import plotly.offline as pyo\n",
    "pyo.init_notebook_mode()\n",
    "from plotly.subplots import make_subplots      \n",
    "\n"
   ]
  },
  {
   "cell_type": "code",
   "execution_count": null,
   "metadata": {},
   "outputs": [],
   "source": [
    "train = pd.read_csv(\"data/Training Data.csv\")"
   ]
  },
  {
   "cell_type": "code",
   "execution_count": null,
   "metadata": {},
   "outputs": [],
   "source": [
    "train"
   ]
  },
  {
   "cell_type": "code",
   "execution_count": null,
   "metadata": {},
   "outputs": [],
   "source": [
    "train.describe()"
   ]
  },
  {
   "cell_type": "code",
   "execution_count": null,
   "metadata": {},
   "outputs": [],
   "source": [
    "Quantitive_features = train.select_dtypes([np.number]).columns\n",
    "Quantitive_features = [col for col in Quantitive_features if col not in ['Id', 'Risk_Flag']]\n",
    "\n",
    "Discrete_features = [col for col in Quantitive_features if len(train[col].unique()) < 10]\n",
    "\n",
    "Continuous_features = [col for col in Quantitive_features if col not in Discrete_features]\n",
    "\n",
    "Categorical_features = train.select_dtypes(exclude = [np.number]).columns\n",
    "\n",
    "df_Target = train['Risk_Flag']"
   ]
  },
  {
   "cell_type": "code",
   "execution_count": null,
   "metadata": {},
   "outputs": [],
   "source": [
    "print(\"Quantitive feautres : {} \\n Discrete features : {} \\n Continous features : {} \\n Categorical features : {}\"\n",
    "     .format(Quantitive_features, Discrete_features, Continuous_features, Categorical_features))"
   ]
  },
  {
   "cell_type": "code",
   "execution_count": null,
   "metadata": {},
   "outputs": [],
   "source": [
    "Current_risk_pec = train.Risk_Flag.mean()*100\n",
    "print(\"Current risk percent of dataset : {}%\".format(Current_risk_pec))"
   ]
  },
  {
   "cell_type": "code",
   "execution_count": null,
   "metadata": {},
   "outputs": [],
   "source": [
    "def Categorical_Features_Univarate(df, fea) : \n",
    "    length = len(df[fea].value_counts().keys())\n",
    "    colors = px.colors.sequential.RdBu[:length]\n",
    "    fig = go.Figure()\n",
    "    fig.add_trace(go.Bar(\n",
    "        x = df[fea].value_counts(),\n",
    "        y = df[fea].value_counts().keys(),\n",
    "        orientation = 'h',\n",
    "        marker_color = colors))\n",
    "    fig.show()"
   ]
  },
  {
   "cell_type": "code",
   "execution_count": null,
   "metadata": {},
   "outputs": [],
   "source": [
    "Categorical_Features_Univarate(train, \"STATE\")"
   ]
  },
  {
   "cell_type": "code",
   "execution_count": null,
   "metadata": {},
   "outputs": [],
   "source": [
    "Categorical_Features_Univarate(train, 'CURRENT_HOUSE_YRS')"
   ]
  },
  {
   "cell_type": "code",
   "execution_count": null,
   "metadata": {},
   "outputs": [],
   "source": [
    "train['Profession'].value_counts().head()"
   ]
  },
  {
   "cell_type": "code",
   "execution_count": null,
   "metadata": {},
   "outputs": [],
   "source": [
    "train['CITY'].value_counts().head()"
   ]
  },
  {
   "cell_type": "code",
   "execution_count": null,
   "metadata": {},
   "outputs": [],
   "source": [
    "corr = train.corr()\n",
    "mask = np.triu(np.ones_like(corr, dtype=bool))\n",
    "corr = corr.mask(mask)\n",
    "\n",
    "fig = go.Figure()\n",
    "fig.add_trace(go.Heatmap(\n",
    "    z = corr, \n",
    "    x = corr.columns.tolist(),\n",
    "    y = corr.columns.tolist(),\n",
    "    colorscale = 'RdBu',\n",
    "    xgap = 1,\n",
    "    ygap = 1,\n",
    "    hoverinfo = \"none\"\n",
    "    )\n",
    ")\n",
    "\n",
    "fig.update_layout(\n",
    "    {\n",
    "        \"title\": {\n",
    "            \"text\": \"<b>Correlation in each feautures</b>\",\n",
    "            \"x\": 0.5,\n",
    "            \"y\": 0.9,\n",
    "            \"font\": {\n",
    "                \"size\": 15\n",
    "            }\n",
    "        },\n",
    "        \"xaxis\": {\n",
    "            \"title\": \"Columns\",\n",
    "            \"tickfont\": {\n",
    "                \"size\": 8                \n",
    "            }\n",
    "        },\n",
    "        \"yaxis\": {\n",
    "            \"title\": \"Columns\",\n",
    "            \"tickfont\": {\n",
    "                \"size\": 8                \n",
    "            }\n",
    "        },\n",
    "        \"template\":'plotly_white',\n",
    "        \"yaxis_autorange\" : \"reversed\"\n",
    "    }\n",
    ")\n",
    "fig.show()\n"
   ]
  },
  {
   "cell_type": "code",
   "execution_count": null,
   "metadata": {},
   "outputs": [],
   "source": [
    "df_city = train.groupby('CITY')['Risk_Flag'].mean().sort_values(ascending = False).reset_index()\n",
    "df_city['Risk_Flag'] = round(df_city['Risk_Flag']*100, 2)"
   ]
  },
  {
   "cell_type": "code",
   "execution_count": null,
   "metadata": {},
   "outputs": [],
   "source": [
    "df_city_plot = pd.concat([df_city[:10],df_city[-10:]]).reset_index(drop = True)"
   ]
  },
  {
   "cell_type": "code",
   "execution_count": null,
   "metadata": {},
   "outputs": [],
   "source": [
    "colors = px.colors.sequential.RdBu[:len(df_city_plot)]\n",
    "fig = go.Figure()\n",
    "fig.add_trace(go.Bar(\n",
    "    x = df_city_plot.CITY,\n",
    "    y = df_city_plot.Risk_Flag,\n",
    "    text = df_city_plot.Risk_Flag,\n",
    "    texttemplate = \"%{text}%\",\n",
    "    marker_color = colors  ))\n",
    "\n",
    "fig.update_layout(\n",
    "    {\n",
    "        \"title\": {\n",
    "            \"text\": \"<b>Risk Percentage by CITY</b>\",\n",
    "            \"x\": 0.5,\n",
    "            \"y\": 0.9,\n",
    "            \"font\": {\n",
    "                \"size\": 15\n",
    "            }\n",
    "        },\n",
    "        \"xaxis\": {\n",
    "            \"title\": \"CITY\",\n",
    "            \"tickfont\": {\n",
    "                \"size\": 10                \n",
    "            }\n",
    "        },\n",
    "        \"yaxis\": {\n",
    "            \"title\": \"Risk Percentage\",\n",
    "            \"tickfont\": {\n",
    "                \"size\": 10                \n",
    "            }\n",
    "        },\n",
    "        \"template\":'plotly_white'\n",
    "    }\n",
    ")\n",
    "\n",
    "fig.show()"
   ]
  },
  {
   "cell_type": "code",
   "execution_count": null,
   "metadata": {},
   "outputs": [],
   "source": [
    "train['Profession'].unique()"
   ]
  },
  {
   "cell_type": "code",
   "execution_count": null,
   "metadata": {},
   "outputs": [],
   "source": [
    "# science: Microbiologist, Technician, Technology_specialist, Technical_writer, Scientist, Statistician, Geologist\n",
    "# engineering: Mechanical_engineer, Civil_engineer, Petroleum_Engineer, Software_Developer, Biomedical_Engineer, Computer_hardware_engineer', Computer_operator, Chemical_engineer,Industrial_Engineer', Engineer, Web_designer\n",
    "# social and cultural: Flight_attendant, Air_traffic_controller, Firefighter, Army_officer, Civil_servant, Librarian, Official, Comedian,Drafter, Politician, Secretary, Magistrate, Psychologist,Lawyer\n",
    "# art: Graphic_Designer, Designer,Design_Engineer, Fashion_Designer, Artist\n",
    "# Business: Economist, Hotel_Manager, Consultant, Chartered_Accountant, Analyst\n",
    "# Professional: Architect', Aviator, Chef,'Physician, Dentist, Surgeon"
   ]
  },
  {
   "cell_type": "code",
   "execution_count": null,
   "metadata": {},
   "outputs": [],
   "source": [
    "Science = ['Microbiologist', 'Technician', 'Technology_specialist', 'Technical_writer', 'Scientist', 'Statistician', 'Geologist']\n",
    "Engineering = ['Mechanical_engineer', 'Civil_engineer', 'Petroleum_Engineer', 'Software_Developer', 'Biomedical_Engineer', 'Computer_hardware_engineer', 'Computer_operator', 'Chemical_engineer','Industrial_Engineer', 'Engineer', 'Web_designer']\n",
    "Social = ['Flight_attendant', 'Air_traffic_controller', 'Firefighter','Army_officer', 'Police_officer','Civil_servant', 'Librarian', 'Official', 'Comedian','Drafter', 'Politician', 'Secretary', 'Magistrate', 'Psychologist','Lawyer']\n",
    "Art = ['Graphic_Designer', 'Designer','Design_Engineer', 'Artist','Fashion_Designer']\n",
    "Business = ['Economist','Financial_Analyst', 'Hotel_Manager', 'Consultant', 'Chartered_Accountant', 'Analyst']\n",
    "Professional = ['Architect','Aviator','Chef','Physician', 'Dentist', 'Surveyor','Surgeon']\n",
    "\n",
    "# def get_prof_group(x):\n",
    "#     if train['Profession'] in Science:\n",
    "#         return 'Science'\n",
    "#     if train['Profession'] in Engineering:\n",
    "#         return 'Engineering'\n",
    "#     if train['Profession'] in Art:\n",
    "#         return 'Art'\n",
    "#     if train['Profession'] in Business:\n",
    "#         return 'Business'\n",
    "#     if train['Profession'] in Professional:\n",
    "#         return 'Professional'\n",
    "\n",
    "# train.loc[:,'Prof_Group'] = train.apply(get_prof_group, axis = 1)\n",
    "\n",
    "\n",
    "        \n"
   ]
  },
  {
   "cell_type": "code",
   "execution_count": null,
   "metadata": {},
   "outputs": [],
   "source": [
    "# for i in train['Profession']:\n",
    "#     if i in Science:\n",
    "#         train['Prof_Group'][i] = 'Science'\n",
    "#     if i in Engineering:\n",
    "#         train['Prof_Group'][i] = 'Engineering'\n",
    "#     if i in Art:\n",
    "#         train['Prof_Group'][i] = 'Art'\n",
    "#     if i in Business:\n",
    "#         train['Prof_Group'][i] = 'Business'\n",
    "#     if i in Professional:\n",
    "#         train['Prof_Group'][i] = 'Professional'"
   ]
  },
  {
   "cell_type": "code",
   "execution_count": null,
   "metadata": {},
   "outputs": [],
   "source": [
    "for i in Science:\n",
    "    row1 = (train['Profession'] == i)\n",
    "    train.loc[row1, 'Prof_Group'] = 'Science'\n",
    "for i in Engineering:\n",
    "    row1 = (train['Profession'] == i)\n",
    "    train.loc[row1, 'Prof_Group'] = 'Engineering'\n",
    "for i in Art:\n",
    "    row1 = (train['Profession'] == i)\n",
    "    train.loc[row1, 'Prof_Group'] = 'Art'\n",
    "for i in Business:\n",
    "    row1 = (train['Profession'] == i)\n",
    "    train.loc[row1, 'Prof_Group'] = 'Business'\n",
    "for i in Professional:\n",
    "    row1 = (train['Profession'] == i)\n",
    "    train.loc[row1, 'Prof_Group'] = 'Professional'\n",
    "for i in Social:\n",
    "    row1 = (train['Profession'] == i)\n",
    "    train.loc[row1, 'Prof_Group'] = 'Social'"
   ]
  },
  {
   "cell_type": "code",
   "execution_count": null,
   "metadata": {},
   "outputs": [],
   "source": [
    "df_prof = train.groupby('Prof_Group')['Risk_Flag'].mean().sort_values(ascending = False).reset_index()\n",
    "df_prof['Risk_Flag'] = round(df_prof['Risk_Flag']*100, 2)"
   ]
  },
  {
   "cell_type": "code",
   "execution_count": null,
   "metadata": {},
   "outputs": [],
   "source": [
    "df_prof_plot = pd.concat([df_prof[:10],df_city[-10:]]).reset_index(drop = True)"
   ]
  },
  {
   "cell_type": "code",
   "execution_count": null,
   "metadata": {},
   "outputs": [],
   "source": [
    "colors = px.colors.sequential.RdBu[:len(df_prof_plot)]\n",
    "fig = go.Figure()\n",
    "fig.add_trace(go.Bar(\n",
    "    x = df_prof_plot.Prof_Group,\n",
    "    y = df_prof_plot.Risk_Flag,\n",
    "    text = df_prof_plot.Risk_Flag,\n",
    "    texttemplate = \"%{text}%\",\n",
    "    marker_color = colors  ))\n",
    "\n",
    "fig.update_layout(\n",
    "    {\n",
    "        \"title\": {\n",
    "            \"text\": \"<b>Risk Percentage by Profssion Group</b>\",\n",
    "            \"x\": 0.5,\n",
    "            \"y\": 0.9,\n",
    "            \"font\": {\n",
    "                \"size\": 15\n",
    "            }\n",
    "        },\n",
    "        \"xaxis\": {\n",
    "            \"title\": \"Profession Group\",\n",
    "            \"tickfont\": {\n",
    "                \"size\": 10                \n",
    "            }\n",
    "        },\n",
    "        \"yaxis\": {\n",
    "            \"title\": \"Risk Percentage\",\n",
    "            \"tickfont\": {\n",
    "                \"size\": 10                \n",
    "            }\n",
    "        },\n",
    "        \"template\":'plotly_white'\n",
    "    }\n",
    ")\n",
    "\n",
    "fig.show()"
   ]
  },
  {
   "cell_type": "code",
   "execution_count": null,
   "metadata": {},
   "outputs": [],
   "source": [
    "train.loc[train['Prof_Group'] == ''] "
   ]
  },
  {
   "cell_type": "code",
   "execution_count": null,
   "metadata": {},
   "outputs": [],
   "source": [
    "def get_age_group(x):\n",
    "    if x['Age'] < 30:\n",
    "        return \"Young\"\n",
    "    elif x['Age'] < 50:\n",
    "        return \"Middle Age\"\n",
    "    else:\n",
    "        return \"Elder\"\n",
    "\n",
    "train.loc[:, 'Age_group'] = train.apply(get_age_group, axis=1)"
   ]
  },
  {
   "cell_type": "code",
   "execution_count": null,
   "metadata": {},
   "outputs": [],
   "source": [
    "df_age = train.groupby('Age_group')['Risk_Flag'].mean().sort_values(ascending = False).reset_index()\n",
    "df_age['Risk_Flag'] = round(df_age['Risk_Flag']*100, 2)\n",
    "df_age_plot = pd.concat([df_age[:1],df_age[-2:]]).reset_index(drop = True)"
   ]
  },
  {
   "cell_type": "code",
   "execution_count": null,
   "metadata": {},
   "outputs": [],
   "source": [
    "df_age['Risk_Flag']"
   ]
  },
  {
   "cell_type": "code",
   "execution_count": null,
   "metadata": {},
   "outputs": [],
   "source": [
    "df_age_plot['Risk_Flag']"
   ]
  },
  {
   "cell_type": "code",
   "execution_count": null,
   "metadata": {},
   "outputs": [],
   "source": [
    "colors = px.colors.sequential.RdBu[:len(df_age_plot)]\n",
    "fig = go.Figure()\n",
    "fig.add_trace(go.Bar(\n",
    "    x = df_age_plot.Age_group,\n",
    "    y = df_age_plot.Risk_Flag,\n",
    "    text = df_age_plot.Risk_Flag,\n",
    "    texttemplate = \"%{text}%\",\n",
    "    marker_color = colors  ))\n",
    "fig.show()"
   ]
  },
  {
   "cell_type": "code",
   "execution_count": null,
   "metadata": {},
   "outputs": [],
   "source": [
    "colors = px.colors.sequential.RdBu[:len(df_age_plot)]\n",
    "fig = go.Figure()\n",
    "fig.add_trace(go.Bar(\n",
    "    x = df_age_plot.Age_group,\n",
    "    y = df_age_plot.Risk_Flag,\n",
    "    text = df_age_plot.Risk_Flag,\n",
    "    texttemplate = \"%{text}%\",\n",
    "    marker_color = colors  ))\n",
    "\n",
    "fig.update_layout(\n",
    "    {\n",
    "        \"title\": {\n",
    "            \"text\": \"<b>Risk Percentage by Age Group</b>\",\n",
    "            \"x\": 0.5,\n",
    "            \"y\": 0.9,\n",
    "            \"font\": {\n",
    "                \"size\": 15\n",
    "            }\n",
    "        },\n",
    "        \"xaxis\": {\n",
    "            \"title\": \"Age Group\",\n",
    "            \"tickfont\": {\n",
    "                \"size\": 10                \n",
    "            }\n",
    "        },\n",
    "        \"yaxis\": {\n",
    "            \"title\": \"Risk Percentage\",\n",
    "            \"tickfont\": {\n",
    "                \"size\": 10                \n",
    "            }\n",
    "        },\n",
    "        \"template\":'plotly_white'\n",
    "    }\n",
    ")\n",
    "\n",
    "fig.show()"
   ]
  }
 ],
 "metadata": {
  "kernelspec": {
   "display_name": "Python 3",
   "language": "python",
   "name": "python3"
  },
  "language_info": {
   "codemirror_mode": {
    "name": "ipython",
    "version": 3
   },
   "file_extension": ".py",
   "mimetype": "text/x-python",
   "name": "python",
   "nbconvert_exporter": "python",
   "pygments_lexer": "ipython3",
   "version": "3.8.5"
  },
  "toc": {
   "base_numbering": 1,
   "nav_menu": {},
   "number_sections": true,
   "sideBar": true,
   "skip_h1_title": false,
   "title_cell": "Table of Contents",
   "title_sidebar": "Contents",
   "toc_cell": false,
   "toc_position": {},
   "toc_section_display": true,
   "toc_window_display": false
  }
 },
 "nbformat": 4,
 "nbformat_minor": 5
}
