{
 "cells": [
  {
   "cell_type": "code",
   "execution_count": null,
   "metadata": {},
   "outputs": [],
   "source": []
  },
  {
   "cell_type": "code",
   "execution_count": 70,
   "metadata": {},
   "outputs": [],
   "source": [
    "import pandas as pd\n",
    "import numpy as np\n",
    "import seaborn as sns\n",
    "import matplotlib.pyplot as plt"
   ]
  },
  {
   "cell_type": "code",
   "execution_count": 4,
   "metadata": {},
   "outputs": [],
   "source": [
    "data = pd.read_csv('C:/Users/19012/Documents/f21-case-studies/case-2-team-3/Data/train_data.csv')"
   ]
  },
  {
   "cell_type": "code",
   "execution_count": 5,
   "metadata": {},
   "outputs": [
    {
     "data": {
      "text/html": [
       "<div>\n",
       "<style scoped>\n",
       "    .dataframe tbody tr th:only-of-type {\n",
       "        vertical-align: middle;\n",
       "    }\n",
       "\n",
       "    .dataframe tbody tr th {\n",
       "        vertical-align: top;\n",
       "    }\n",
       "\n",
       "    .dataframe thead th {\n",
       "        text-align: right;\n",
       "    }\n",
       "</style>\n",
       "<table border=\"1\" class=\"dataframe\">\n",
       "  <thead>\n",
       "    <tr style=\"text-align: right;\">\n",
       "      <th></th>\n",
       "      <th>Id</th>\n",
       "      <th>Income</th>\n",
       "      <th>Age</th>\n",
       "      <th>Experience</th>\n",
       "      <th>Married/Single</th>\n",
       "      <th>House_Ownership</th>\n",
       "      <th>Car_Ownership</th>\n",
       "      <th>Profession</th>\n",
       "      <th>CITY</th>\n",
       "      <th>STATE</th>\n",
       "      <th>CURRENT_JOB_YRS</th>\n",
       "      <th>CURRENT_HOUSE_YRS</th>\n",
       "      <th>Risk_Flag</th>\n",
       "    </tr>\n",
       "  </thead>\n",
       "  <tbody>\n",
       "    <tr>\n",
       "      <th>0</th>\n",
       "      <td>1</td>\n",
       "      <td>1303834</td>\n",
       "      <td>23</td>\n",
       "      <td>3</td>\n",
       "      <td>single</td>\n",
       "      <td>rented</td>\n",
       "      <td>no</td>\n",
       "      <td>Mechanical_engineer</td>\n",
       "      <td>Rewa</td>\n",
       "      <td>Madhya_Pradesh</td>\n",
       "      <td>3</td>\n",
       "      <td>13</td>\n",
       "      <td>0</td>\n",
       "    </tr>\n",
       "    <tr>\n",
       "      <th>1</th>\n",
       "      <td>2</td>\n",
       "      <td>7574516</td>\n",
       "      <td>40</td>\n",
       "      <td>10</td>\n",
       "      <td>single</td>\n",
       "      <td>rented</td>\n",
       "      <td>no</td>\n",
       "      <td>Software_Developer</td>\n",
       "      <td>Parbhani</td>\n",
       "      <td>Maharashtra</td>\n",
       "      <td>9</td>\n",
       "      <td>13</td>\n",
       "      <td>0</td>\n",
       "    </tr>\n",
       "    <tr>\n",
       "      <th>2</th>\n",
       "      <td>3</td>\n",
       "      <td>3991815</td>\n",
       "      <td>66</td>\n",
       "      <td>4</td>\n",
       "      <td>married</td>\n",
       "      <td>rented</td>\n",
       "      <td>no</td>\n",
       "      <td>Technical_writer</td>\n",
       "      <td>Alappuzha</td>\n",
       "      <td>Kerala</td>\n",
       "      <td>4</td>\n",
       "      <td>10</td>\n",
       "      <td>0</td>\n",
       "    </tr>\n",
       "    <tr>\n",
       "      <th>3</th>\n",
       "      <td>4</td>\n",
       "      <td>6256451</td>\n",
       "      <td>41</td>\n",
       "      <td>2</td>\n",
       "      <td>single</td>\n",
       "      <td>rented</td>\n",
       "      <td>yes</td>\n",
       "      <td>Software_Developer</td>\n",
       "      <td>Bhubaneswar</td>\n",
       "      <td>Odisha</td>\n",
       "      <td>2</td>\n",
       "      <td>12</td>\n",
       "      <td>1</td>\n",
       "    </tr>\n",
       "    <tr>\n",
       "      <th>4</th>\n",
       "      <td>5</td>\n",
       "      <td>5768871</td>\n",
       "      <td>47</td>\n",
       "      <td>11</td>\n",
       "      <td>single</td>\n",
       "      <td>rented</td>\n",
       "      <td>no</td>\n",
       "      <td>Civil_servant</td>\n",
       "      <td>Tiruchirappalli[10]</td>\n",
       "      <td>Tamil_Nadu</td>\n",
       "      <td>3</td>\n",
       "      <td>14</td>\n",
       "      <td>1</td>\n",
       "    </tr>\n",
       "  </tbody>\n",
       "</table>\n",
       "</div>"
      ],
      "text/plain": [
       "   Id   Income  Age  Experience Married/Single House_Ownership Car_Ownership  \\\n",
       "0   1  1303834   23           3         single          rented            no   \n",
       "1   2  7574516   40          10         single          rented            no   \n",
       "2   3  3991815   66           4        married          rented            no   \n",
       "3   4  6256451   41           2         single          rented           yes   \n",
       "4   5  5768871   47          11         single          rented            no   \n",
       "\n",
       "            Profession                 CITY           STATE  CURRENT_JOB_YRS  \\\n",
       "0  Mechanical_engineer                 Rewa  Madhya_Pradesh                3   \n",
       "1   Software_Developer             Parbhani     Maharashtra                9   \n",
       "2     Technical_writer            Alappuzha          Kerala                4   \n",
       "3   Software_Developer          Bhubaneswar          Odisha                2   \n",
       "4        Civil_servant  Tiruchirappalli[10]      Tamil_Nadu                3   \n",
       "\n",
       "   CURRENT_HOUSE_YRS  Risk_Flag  \n",
       "0                 13          0  \n",
       "1                 13          0  \n",
       "2                 10          0  \n",
       "3                 12          1  \n",
       "4                 14          1  "
      ]
     },
     "execution_count": 5,
     "metadata": {},
     "output_type": "execute_result"
    }
   ],
   "source": [
    "data.head()"
   ]
  },
  {
   "cell_type": "code",
   "execution_count": 6,
   "metadata": {},
   "outputs": [
    {
     "data": {
      "text/html": [
       "<div>\n",
       "<style scoped>\n",
       "    .dataframe tbody tr th:only-of-type {\n",
       "        vertical-align: middle;\n",
       "    }\n",
       "\n",
       "    .dataframe tbody tr th {\n",
       "        vertical-align: top;\n",
       "    }\n",
       "\n",
       "    .dataframe thead th {\n",
       "        text-align: right;\n",
       "    }\n",
       "</style>\n",
       "<table border=\"1\" class=\"dataframe\">\n",
       "  <thead>\n",
       "    <tr style=\"text-align: right;\">\n",
       "      <th></th>\n",
       "      <th>data_columns</th>\n",
       "      <th>data_types</th>\n",
       "    </tr>\n",
       "  </thead>\n",
       "  <tbody>\n",
       "    <tr>\n",
       "      <th>0</th>\n",
       "      <td>Id</td>\n",
       "      <td>int64</td>\n",
       "    </tr>\n",
       "    <tr>\n",
       "      <th>1</th>\n",
       "      <td>Income</td>\n",
       "      <td>int64</td>\n",
       "    </tr>\n",
       "    <tr>\n",
       "      <th>2</th>\n",
       "      <td>Age</td>\n",
       "      <td>int64</td>\n",
       "    </tr>\n",
       "    <tr>\n",
       "      <th>3</th>\n",
       "      <td>Experience</td>\n",
       "      <td>int64</td>\n",
       "    </tr>\n",
       "    <tr>\n",
       "      <th>4</th>\n",
       "      <td>Married/Single</td>\n",
       "      <td>object</td>\n",
       "    </tr>\n",
       "    <tr>\n",
       "      <th>5</th>\n",
       "      <td>House_Ownership</td>\n",
       "      <td>object</td>\n",
       "    </tr>\n",
       "    <tr>\n",
       "      <th>6</th>\n",
       "      <td>Car_Ownership</td>\n",
       "      <td>object</td>\n",
       "    </tr>\n",
       "    <tr>\n",
       "      <th>7</th>\n",
       "      <td>Profession</td>\n",
       "      <td>object</td>\n",
       "    </tr>\n",
       "    <tr>\n",
       "      <th>8</th>\n",
       "      <td>CITY</td>\n",
       "      <td>object</td>\n",
       "    </tr>\n",
       "    <tr>\n",
       "      <th>9</th>\n",
       "      <td>STATE</td>\n",
       "      <td>object</td>\n",
       "    </tr>\n",
       "    <tr>\n",
       "      <th>10</th>\n",
       "      <td>CURRENT_JOB_YRS</td>\n",
       "      <td>int64</td>\n",
       "    </tr>\n",
       "    <tr>\n",
       "      <th>11</th>\n",
       "      <td>CURRENT_HOUSE_YRS</td>\n",
       "      <td>int64</td>\n",
       "    </tr>\n",
       "    <tr>\n",
       "      <th>12</th>\n",
       "      <td>Risk_Flag</td>\n",
       "      <td>int64</td>\n",
       "    </tr>\n",
       "  </tbody>\n",
       "</table>\n",
       "</div>"
      ],
      "text/plain": [
       "         data_columns data_types\n",
       "0                  Id      int64\n",
       "1              Income      int64\n",
       "2                 Age      int64\n",
       "3          Experience      int64\n",
       "4      Married/Single     object\n",
       "5     House_Ownership     object\n",
       "6       Car_Ownership     object\n",
       "7          Profession     object\n",
       "8                CITY     object\n",
       "9               STATE     object\n",
       "10    CURRENT_JOB_YRS      int64\n",
       "11  CURRENT_HOUSE_YRS      int64\n",
       "12          Risk_Flag      int64"
      ]
     },
     "execution_count": 6,
     "metadata": {},
     "output_type": "execute_result"
    }
   ],
   "source": [
    "data_columns = list(data.columns)\n",
    "#print(data.Income.dtype)\n",
    "data_types = [data[i].dtype for i in data_columns]\n",
    "\n",
    "d = {'data_columns': data_columns, 'data_types': data_types}\n",
    "df = pd.DataFrame(data=d)\n",
    "df"
   ]
  },
  {
   "cell_type": "code",
   "execution_count": 7,
   "metadata": {},
   "outputs": [
    {
     "data": {
      "text/plain": [
       "['Id',\n",
       " 'Income',\n",
       " 'Age',\n",
       " 'Experience',\n",
       " 'Married/Single',\n",
       " 'House_Ownership',\n",
       " 'Car_Ownership',\n",
       " 'Profession',\n",
       " 'CITY',\n",
       " 'STATE',\n",
       " 'CURRENT_JOB_YRS',\n",
       " 'CURRENT_HOUSE_YRS',\n",
       " 'Risk_Flag']"
      ]
     },
     "execution_count": 7,
     "metadata": {},
     "output_type": "execute_result"
    }
   ],
   "source": [
    "list(data.columns)"
   ]
  },
  {
   "cell_type": "code",
   "execution_count": 8,
   "metadata": {},
   "outputs": [
    {
     "data": {
      "text/plain": [
       "Id                    int64\n",
       "Income                int64\n",
       "Age                   int64\n",
       "Experience            int64\n",
       "Married/Single       object\n",
       "House_Ownership      object\n",
       "Car_Ownership        object\n",
       "Profession           object\n",
       "CITY                 object\n",
       "STATE                object\n",
       "CURRENT_JOB_YRS       int64\n",
       "CURRENT_HOUSE_YRS     int64\n",
       "Risk_Flag             int64\n",
       "dtype: object"
      ]
     },
     "execution_count": 8,
     "metadata": {},
     "output_type": "execute_result"
    }
   ],
   "source": [
    "data.dtypes"
   ]
  },
  {
   "cell_type": "code",
   "execution_count": 9,
   "metadata": {},
   "outputs": [],
   "source": [
    "data['Id'] = data['Id'].apply(str)"
   ]
  },
  {
   "cell_type": "code",
   "execution_count": 10,
   "metadata": {},
   "outputs": [
    {
     "data": {
      "text/plain": [
       "<AxesSubplot:>"
      ]
     },
     "execution_count": 10,
     "metadata": {},
     "output_type": "execute_result"
    },
    {
     "data": {
      "image/png": "[encoded data removed]",
      "text/plain": [
       "<Figure size 432x288 with 2 Axes>"
      ]
     },
     "metadata": {
      "needs_background": "light"
     },
     "output_type": "display_data"
    }
   ],
   "source": [
    "corrMatrix = data.corr()\n",
    "sns.heatmap(corrMatrix, annot=True)"
   ]
  },
  {
   "cell_type": "code",
   "execution_count": 11,
   "metadata": {},
   "outputs": [
    {
     "data": {
      "text/plain": [
       "array(['single', 'married'], dtype=object)"
      ]
     },
     "execution_count": 11,
     "metadata": {},
     "output_type": "execute_result"
    }
   ],
   "source": [
    "data['Married/Single'].unique()"
   ]
  },
  {
   "cell_type": "code",
   "execution_count": 12,
   "metadata": {},
   "outputs": [],
   "source": [
    "data['Married/Single'].replace({'single': 0, 'married': 1}, inplace=True)"
   ]
  },
  {
   "cell_type": "code",
   "execution_count": 13,
   "metadata": {},
   "outputs": [
    {
     "data": {
      "text/plain": [
       "array(['rented', 'norent_noown', 'owned'], dtype=object)"
      ]
     },
     "execution_count": 13,
     "metadata": {},
     "output_type": "execute_result"
    }
   ],
   "source": [
    "data['House_Ownership'].unique()"
   ]
  },
  {
   "cell_type": "code",
   "execution_count": 14,
   "metadata": {},
   "outputs": [],
   "source": [
    "data['House_Ownership'].replace({'rented': 0, 'norent_noown': 1, 'owned': 2}, inplace=True)"
   ]
  },
  {
   "cell_type": "code",
   "execution_count": 15,
   "metadata": {},
   "outputs": [
    {
     "data": {
      "text/plain": [
       "array(['no', 'yes'], dtype=object)"
      ]
     },
     "execution_count": 15,
     "metadata": {},
     "output_type": "execute_result"
    }
   ],
   "source": [
    "data['Car_Ownership'].unique()"
   ]
  },
  {
   "cell_type": "code",
   "execution_count": 16,
   "metadata": {},
   "outputs": [],
   "source": [
    "data['Car_Ownership'].replace({'no': 0, 'yes': 1}, inplace=True)"
   ]
  },
  {
   "cell_type": "code",
   "execution_count": 17,
   "metadata": {},
   "outputs": [
    {
     "data": {
      "text/plain": [
       "array(['Mechanical_engineer', 'Software_Developer', 'Technical_writer',\n",
       "       'Civil_servant', 'Librarian', 'Economist', 'Flight_attendant',\n",
       "       'Architect', 'Designer', 'Physician', 'Financial_Analyst',\n",
       "       'Air_traffic_controller', 'Politician', 'Police_officer', 'Artist',\n",
       "       'Surveyor', 'Design_Engineer', 'Chemical_engineer',\n",
       "       'Hotel_Manager', 'Dentist', 'Comedian', 'Biomedical_Engineer',\n",
       "       'Graphic_Designer', 'Computer_hardware_engineer',\n",
       "       'Petroleum_Engineer', 'Secretary', 'Computer_operator',\n",
       "       'Chartered_Accountant', 'Technician', 'Microbiologist',\n",
       "       'Fashion_Designer', 'Aviator', 'Psychologist', 'Magistrate',\n",
       "       'Lawyer', 'Firefighter', 'Engineer', 'Official', 'Analyst',\n",
       "       'Geologist', 'Drafter', 'Statistician', 'Web_designer',\n",
       "       'Consultant', 'Chef', 'Army_officer', 'Surgeon', 'Scientist',\n",
       "       'Civil_engineer', 'Industrial_Engineer', 'Technology_specialist'],\n",
       "      dtype=object)"
      ]
     },
     "execution_count": 17,
     "metadata": {},
     "output_type": "execute_result"
    }
   ],
   "source": [
    "data['Profession'].unique()"
   ]
  },
  {
   "cell_type": "code",
   "execution_count": 18,
   "metadata": {
    "scrolled": true
   },
   "outputs": [
    {
     "data": {
      "text/plain": [
       "array(['Rewa', 'Parbhani', 'Alappuzha', 'Bhubaneswar',\n",
       "       'Tiruchirappalli[10]', 'Jalgaon', 'Tiruppur', 'Jamnagar',\n",
       "       'Kota[6]', 'Karimnagar', 'Hajipur[31]', 'Adoni', 'Erode[17]',\n",
       "       'Kollam', 'Madurai', 'Anantapuram[24]', 'Kamarhati', 'Bhusawal',\n",
       "       'Sirsa', 'Amaravati', 'Secunderabad', 'Ahmedabad', 'Ajmer',\n",
       "       'Ongole', 'Miryalaguda', 'Ambattur', 'Indore', 'Pondicherry',\n",
       "       'Shimoga', 'Chennai', 'Gulbarga', 'Khammam', 'Saharanpur',\n",
       "       'Gopalpur', 'Amravati', 'Udupi', 'Howrah', 'Aurangabad[39]',\n",
       "       'Hospet', 'Shimla', 'Khandwa', 'Bidhannagar', 'Bellary', 'Danapur',\n",
       "       'Purnia[26]', 'Bijapur', 'Patiala', 'Malda', 'Sagar', 'Durgapur',\n",
       "       'Junagadh', 'Singrauli', 'Agartala', 'Thanjavur', 'Hindupur',\n",
       "       'Naihati', 'North_Dumdum', 'Panchkula', 'Anantapur', 'Serampore',\n",
       "       'Bathinda', 'Nadiad', 'Kanpur', 'Haridwar', 'Berhampur',\n",
       "       'Jamshedpur', 'Hyderabad', 'Bidar', 'Kottayam', 'Solapur',\n",
       "       'Suryapet', 'Aizawl', 'Asansol', 'Deoghar', 'Eluru[25]',\n",
       "       'Ulhasnagar', 'Aligarh', 'South_Dumdum', 'Berhampore',\n",
       "       'Gandhinagar', 'Sonipat', 'Muzaffarpur', 'Raichur',\n",
       "       'Rajpur_Sonarpur', 'Ambarnath', 'Katihar', 'Kozhikode', 'Vellore',\n",
       "       'Malegaon', 'Kochi', 'Nagaon', 'Nagpur', 'Srinagar', 'Davanagere',\n",
       "       'Bhagalpur', 'Siwan[32]', 'Meerut', 'Dindigul', 'Bhatpara',\n",
       "       'Ghaziabad', 'Kulti', 'Chapra', 'Dibrugarh', 'Panihati',\n",
       "       'Bhiwandi', 'Morbi', 'Kalyan-Dombivli', 'Gorakhpur', 'Panvel',\n",
       "       'Siliguri', 'Bongaigaon', 'Patna', 'Ramgarh', 'Ozhukarai',\n",
       "       'Mirzapur', 'Akola', 'Satna', 'Motihari[34]', 'Jalna', 'Jalandhar',\n",
       "       'Unnao', 'Karnal', 'Cuttack', 'Proddatur', 'Ichalkaranji',\n",
       "       'Warangal[11][12]', 'Jhansi', 'Bulandshahr', 'Narasaraopet',\n",
       "       'Chinsurah', 'Jehanabad[38]', 'Dhanbad', 'Gudivada', 'Gandhidham',\n",
       "       'Raiganj', 'Kishanganj[35]', 'Varanasi', 'Belgaum',\n",
       "       'Tirupati[21][22]', 'Tumkur', 'Coimbatore', 'Kurnool[18]',\n",
       "       'Gurgaon', 'Muzaffarnagar', 'Aurangabad', 'Bhavnagar', 'Arrah',\n",
       "       'Munger', 'Tirunelveli', 'Mumbai', 'Mango', 'Nashik', 'Kadapa[23]',\n",
       "       'Amritsar', 'Khora,_Ghaziabad', 'Ambala', 'Agra', 'Ratlam',\n",
       "       'Surendranagar_Dudhrej', 'Delhi_city', 'Bhopal', 'Hapur', 'Rohtak',\n",
       "       'Durg', 'Korba', 'Bangalore', 'Shivpuri', 'Thrissur',\n",
       "       'Vijayanagaram', 'Farrukhabad', 'Nangloi_Jat', 'Madanapalle',\n",
       "       'Thoothukudi', 'Nagercoil', 'Gaya', 'Chandigarh_city', 'Jammu[16]',\n",
       "       'Kakinada', 'Dewas', 'Bhalswa_Jahangir_Pur', 'Baranagar',\n",
       "       'Firozabad', 'Phusro', 'Allahabad', 'Guna', 'Thane', 'Etawah',\n",
       "       'Vasai-Virar', 'Pallavaram', 'Morena', 'Ballia', 'Surat',\n",
       "       'Burhanpur', 'Phagwara', 'Mau', 'Mangalore', 'Alwar',\n",
       "       'Mahbubnagar', 'Maheshtala', 'Hazaribagh', 'Bihar_Sharif',\n",
       "       'Faridabad', 'Lucknow', 'Tenali', 'Barasat', 'Amroha', 'Giridih',\n",
       "       'Begusarai', 'Medininagar', 'Rajahmundry[19][20]', 'Saharsa[29]',\n",
       "       'New_Delhi', 'Bhilai', 'Moradabad', 'Machilipatnam',\n",
       "       'Mira-Bhayandar', 'Pali', 'Navi_Mumbai', 'Mehsana', 'Imphal',\n",
       "       'Kolkata', 'Sambalpur', 'Ujjain', 'Madhyamgram', 'Jabalpur',\n",
       "       'Jamalpur[36]', 'Ludhiana', 'Bareilly', 'Gangtok', 'Anand',\n",
       "       'Dehradun', 'Pune', 'Satara', 'Srikakulam', 'Raipur', 'Jodhpur',\n",
       "       'Darbhanga', 'Nizamabad', 'Nandyal', 'Dehri[30]', 'Jorhat',\n",
       "       'Ranchi', 'Kumbakonam', 'Guntakal', 'Haldia', 'Loni',\n",
       "       'Pimpri-Chinchwad', 'Rajkot', 'Nanded', 'Noida',\n",
       "       'Kirari_Suleman_Nagar', 'Jaunpur', 'Bilaspur', 'Sambhal', 'Dhule',\n",
       "       'Rourkela', 'Thiruvananthapuram', 'Dharmavaram', 'Nellore[14][15]',\n",
       "       'Visakhapatnam[4]', 'Karawal_Nagar', 'Jaipur', 'Avadi',\n",
       "       'Bhimavaram', 'Bardhaman', 'Silchar', 'Buxar[37]', 'Kavali',\n",
       "       'Tezpur', 'Ramagundam[27]', 'Yamunanagar', 'Sri_Ganganagar',\n",
       "       'Sasaram[30]', 'Sikar', 'Bally', 'Bhiwani', 'Rampur', 'Uluberia',\n",
       "       'Sangli-Miraj_&_Kupwad', 'Hosur', 'Bikaner', 'Shahjahanpur',\n",
       "       'Sultan_Pur_Majra', 'Vijayawada', 'Bharatpur', 'Tadepalligudem',\n",
       "       'Tinsukia', 'Salem', 'Mathura', 'Guntur[13]', 'Hubliâ€“Dharwad',\n",
       "       'Guwahati', 'Chittoor[28]', 'Tiruvottiyur', 'Vadodara',\n",
       "       'Ahmednagar', 'Fatehpur', 'Bhilwara', 'Kharagpur', 'Bettiah[33]',\n",
       "       'Bhind', 'Bokaro', 'Karaikudi', 'Raebareli', 'Pudukkottai',\n",
       "       'Udaipur', 'Mysore[7][8][9]', 'Panipat', 'Latur', 'Tadipatri',\n",
       "       'Bahraich', 'Orai', 'Raurkela_Industrial_Township', 'Gwalior',\n",
       "       'Katni', 'Chandrapur', 'Kolhapur'], dtype=object)"
      ]
     },
     "execution_count": 18,
     "metadata": {},
     "output_type": "execute_result"
    }
   ],
   "source": [
    "data['CITY'].unique()"
   ]
  },
  {
   "cell_type": "code",
   "execution_count": 19,
   "metadata": {},
   "outputs": [
    {
     "data": {
      "text/plain": [
       "array(['Madhya_Pradesh', 'Maharashtra', 'Kerala', 'Odisha', 'Tamil_Nadu',\n",
       "       'Gujarat', 'Rajasthan', 'Telangana', 'Bihar', 'Andhra_Pradesh',\n",
       "       'West_Bengal', 'Haryana', 'Puducherry', 'Karnataka',\n",
       "       'Uttar_Pradesh', 'Himachal_Pradesh', 'Punjab', 'Tripura',\n",
       "       'Uttarakhand', 'Jharkhand', 'Mizoram', 'Assam',\n",
       "       'Jammu_and_Kashmir', 'Delhi', 'Chhattisgarh', 'Chandigarh',\n",
       "       'Uttar_Pradesh[5]', 'Manipur', 'Sikkim'], dtype=object)"
      ]
     },
     "execution_count": 19,
     "metadata": {},
     "output_type": "execute_result"
    }
   ],
   "source": [
    "data['STATE'].unique()"
   ]
  },
  {
   "cell_type": "code",
   "execution_count": 20,
   "metadata": {
    "scrolled": true
   },
   "outputs": [
    {
     "data": {
      "text/plain": [
       "0    221004\n",
       "1     30996\n",
       "Name: Risk_Flag, dtype: int64"
      ]
     },
     "execution_count": 20,
     "metadata": {},
     "output_type": "execute_result"
    }
   ],
   "source": [
    "data['Risk_Flag'].value_counts()"
   ]
  },
  {
   "cell_type": "code",
   "execution_count": 21,
   "metadata": {},
   "outputs": [
    {
     "data": {
      "text/plain": [
       "0.877"
      ]
     },
     "execution_count": 21,
     "metadata": {},
     "output_type": "execute_result"
    }
   ],
   "source": [
    "data['Risk_Flag'].value_counts()[0] / data.shape[0]"
   ]
  },
  {
   "cell_type": "markdown",
   "metadata": {},
   "source": [
    "# Group Experience Levels\n",
    "\n",
    "In most cases, the experience you have working translates to different levels of work (entry level, senior, etc.). We want to group the levels of experience for the individuals to determine if there is an experience level that is more likely to default than others."
   ]
  },
  {
   "cell_type": "code",
   "execution_count": 32,
   "metadata": {},
   "outputs": [
    {
     "name": "stdout",
     "output_type": "stream",
     "text": [
      "20\n",
      "0\n"
     ]
    }
   ],
   "source": [
    "print(data['Experience'].max())\n",
    "print(data['Experience'].min())"
   ]
  },
  {
   "cell_type": "markdown",
   "metadata": {},
   "source": [
    "[indeed](https://www.indeed.com/career-advice/finding-a-job/work-experience) lists 4 options for experience level: entry, intermediate, mid-level, senior/executive.\n",
    "\n",
    "https://www.shrm.org/resourcesandtools/hr-topics/talent-acquisition/pages/entry-level-experience-requirements-hurting-hiring.aspx found that 61% of all entry level job postings require 3+ years experience\n",
    "\n",
    "https://www.linkedin.com/business/talent/blog/talent-acquisition/viral-post-asks-why-entry-level-jobs-require-years-of-experience 24% of entry level jobs in UK require at least 1 year of experience\n",
    "\n",
    "http://www.engineeringcompanies.com.au/various-levels-of-engineers/ intermediate between 2-5 years\n",
    "- entry level = 0-3\n",
    "- intermediate = 3-7\n",
    "- mid-level = 7-10\n",
    "- senior/exec = 10+"
   ]
  },
  {
   "cell_type": "code",
   "execution_count": 34,
   "metadata": {},
   "outputs": [
    {
     "name": "stderr",
     "output_type": "stream",
     "text": [
      "C:\\Users\\19012\\Anaconda3\\lib\\site-packages\\pandas\\core\\indexing.py:670: SettingWithCopyWarning: \n",
      "A value is trying to be set on a copy of a slice from a DataFrame\n",
      "\n",
      "See the caveats in the documentation: https://pandas.pydata.org/pandas-docs/stable/user_guide/indexing.html#returning-a-view-versus-a-copy\n",
      "  iloc._setitem_with_indexer(indexer, value)\n"
     ]
    }
   ],
   "source": [
    "data = data.copy()\n",
    "data['level'] = np.nan\n",
    "for i in range(len(data)):\n",
    "    if (data['Experience'].iloc[i] <=3) & (data['Experience'].iloc[i] >= 0):\n",
    "        data['level'].iloc[i] = 'entry level'\n",
    "    elif (data['Experience'].iloc[i] <= 7) & (data['Experience'].iloc[i] > 3):\n",
    "        data['level'].iloc[i] = 'intermediate'\n",
    "    elif (data['Experience'].iloc[i] <= 10) & (data['Experience'].iloc[i] > 7):\n",
    "        data['level'].iloc[i] = 'mid-level'\n",
    "    else:\n",
    "        data['level'].iloc[i] = 'senior/exec'"
   ]
  },
  {
   "cell_type": "code",
   "execution_count": 35,
   "metadata": {},
   "outputs": [
    {
     "data": {
      "text/html": [
       "<div>\n",
       "<style scoped>\n",
       "    .dataframe tbody tr th:only-of-type {\n",
       "        vertical-align: middle;\n",
       "    }\n",
       "\n",
       "    .dataframe tbody tr th {\n",
       "        vertical-align: top;\n",
       "    }\n",
       "\n",
       "    .dataframe thead th {\n",
       "        text-align: right;\n",
       "    }\n",
       "</style>\n",
       "<table border=\"1\" class=\"dataframe\">\n",
       "  <thead>\n",
       "    <tr style=\"text-align: right;\">\n",
       "      <th></th>\n",
       "      <th>Id</th>\n",
       "      <th>Income</th>\n",
       "      <th>Age</th>\n",
       "      <th>Experience</th>\n",
       "      <th>Married/Single</th>\n",
       "      <th>House_Ownership</th>\n",
       "      <th>Car_Ownership</th>\n",
       "      <th>Profession</th>\n",
       "      <th>CITY</th>\n",
       "      <th>STATE</th>\n",
       "      <th>CURRENT_JOB_YRS</th>\n",
       "      <th>CURRENT_HOUSE_YRS</th>\n",
       "      <th>Risk_Flag</th>\n",
       "      <th>level</th>\n",
       "    </tr>\n",
       "  </thead>\n",
       "  <tbody>\n",
       "    <tr>\n",
       "      <th>0</th>\n",
       "      <td>1</td>\n",
       "      <td>1303834</td>\n",
       "      <td>23</td>\n",
       "      <td>3</td>\n",
       "      <td>0</td>\n",
       "      <td>0</td>\n",
       "      <td>0</td>\n",
       "      <td>Mechanical_engineer</td>\n",
       "      <td>Rewa</td>\n",
       "      <td>Madhya_Pradesh</td>\n",
       "      <td>3</td>\n",
       "      <td>13</td>\n",
       "      <td>0</td>\n",
       "      <td>entry level</td>\n",
       "    </tr>\n",
       "    <tr>\n",
       "      <th>1</th>\n",
       "      <td>2</td>\n",
       "      <td>7574516</td>\n",
       "      <td>40</td>\n",
       "      <td>10</td>\n",
       "      <td>0</td>\n",
       "      <td>0</td>\n",
       "      <td>0</td>\n",
       "      <td>Software_Developer</td>\n",
       "      <td>Parbhani</td>\n",
       "      <td>Maharashtra</td>\n",
       "      <td>9</td>\n",
       "      <td>13</td>\n",
       "      <td>0</td>\n",
       "      <td>mid-level</td>\n",
       "    </tr>\n",
       "    <tr>\n",
       "      <th>2</th>\n",
       "      <td>3</td>\n",
       "      <td>3991815</td>\n",
       "      <td>66</td>\n",
       "      <td>4</td>\n",
       "      <td>1</td>\n",
       "      <td>0</td>\n",
       "      <td>0</td>\n",
       "      <td>Technical_writer</td>\n",
       "      <td>Alappuzha</td>\n",
       "      <td>Kerala</td>\n",
       "      <td>4</td>\n",
       "      <td>10</td>\n",
       "      <td>0</td>\n",
       "      <td>intermediate</td>\n",
       "    </tr>\n",
       "    <tr>\n",
       "      <th>3</th>\n",
       "      <td>4</td>\n",
       "      <td>6256451</td>\n",
       "      <td>41</td>\n",
       "      <td>2</td>\n",
       "      <td>0</td>\n",
       "      <td>0</td>\n",
       "      <td>1</td>\n",
       "      <td>Software_Developer</td>\n",
       "      <td>Bhubaneswar</td>\n",
       "      <td>Odisha</td>\n",
       "      <td>2</td>\n",
       "      <td>12</td>\n",
       "      <td>1</td>\n",
       "      <td>entry level</td>\n",
       "    </tr>\n",
       "    <tr>\n",
       "      <th>4</th>\n",
       "      <td>5</td>\n",
       "      <td>5768871</td>\n",
       "      <td>47</td>\n",
       "      <td>11</td>\n",
       "      <td>0</td>\n",
       "      <td>0</td>\n",
       "      <td>0</td>\n",
       "      <td>Civil_servant</td>\n",
       "      <td>Tiruchirappalli[10]</td>\n",
       "      <td>Tamil_Nadu</td>\n",
       "      <td>3</td>\n",
       "      <td>14</td>\n",
       "      <td>1</td>\n",
       "      <td>senior/exec</td>\n",
       "    </tr>\n",
       "  </tbody>\n",
       "</table>\n",
       "</div>"
      ],
      "text/plain": [
       "  Id   Income  Age  Experience  Married/Single  House_Ownership  \\\n",
       "0  1  1303834   23           3               0                0   \n",
       "1  2  7574516   40          10               0                0   \n",
       "2  3  3991815   66           4               1                0   \n",
       "3  4  6256451   41           2               0                0   \n",
       "4  5  5768871   47          11               0                0   \n",
       "\n",
       "   Car_Ownership           Profession                 CITY           STATE  \\\n",
       "0              0  Mechanical_engineer                 Rewa  Madhya_Pradesh   \n",
       "1              0   Software_Developer             Parbhani     Maharashtra   \n",
       "2              0     Technical_writer            Alappuzha          Kerala   \n",
       "3              1   Software_Developer          Bhubaneswar          Odisha   \n",
       "4              0        Civil_servant  Tiruchirappalli[10]      Tamil_Nadu   \n",
       "\n",
       "   CURRENT_JOB_YRS  CURRENT_HOUSE_YRS  Risk_Flag         level  \n",
       "0                3                 13          0   entry level  \n",
       "1                9                 13          0     mid-level  \n",
       "2                4                 10          0  intermediate  \n",
       "3                2                 12          1   entry level  \n",
       "4                3                 14          1   senior/exec  "
      ]
     },
     "execution_count": 35,
     "metadata": {},
     "output_type": "execute_result"
    }
   ],
   "source": [
    "data.head()"
   ]
  },
  {
   "cell_type": "code",
   "execution_count": 46,
   "metadata": {},
   "outputs": [
    {
     "name": "stdout",
     "output_type": "stream",
     "text": [
      "['entry level' 'mid-level' 'intermediate' 'senior/exec']\n",
      "Index(['senior/exec', 'intermediate', 'entry level', 'mid-level'], dtype='object')\n"
     ]
    }
   ],
   "source": [
    "print(data['level'].unique())\n",
    "print(data['level'].value_counts().index)"
   ]
  },
  {
   "cell_type": "code",
   "execution_count": 79,
   "metadata": {},
   "outputs": [
    {
     "data": {
      "text/plain": [
       "Text(0.5, 0, 'Experience Level')"
      ]
     },
     "execution_count": 79,
     "metadata": {},
     "output_type": "execute_result"
    },
    {
     "data": {
      "image/png": "[encoded data removed]",
      "text/plain": [
       "<Figure size 432x288 with 1 Axes>"
      ]
     },
     "metadata": {},
     "output_type": "display_data"
    }
   ],
   "source": [
    "plt.bar(data['level'].value_counts().index, data['level'].value_counts());\n",
    "plt.title('Number of Experience Levels')\n",
    "plt.ylabel('Count')\n",
    "plt.xlabel('Experience Level')"
   ]
  },
  {
   "cell_type": "code",
   "execution_count": 60,
   "metadata": {
    "scrolled": true
   },
   "outputs": [],
   "source": [
    "executive = data['level'][data['Risk_Flag']==1].value_counts()[0] / data['level'].value_counts()[0]\n",
    "intermediate = data['level'][data['Risk_Flag']==1].value_counts()[1] / data['level'].value_counts()[1]\n",
    "entry = data['level'][data['Risk_Flag']==1].value_counts()[2] / data['level'].value_counts()[2]\n",
    "mid = data['level'][data['Risk_Flag']==1].value_counts()[3] / data['level'].value_counts()[3]"
   ]
  },
  {
   "cell_type": "code",
   "execution_count": 61,
   "metadata": {},
   "outputs": [
    {
     "data": {
      "text/plain": [
       "(0.1163420226988634,\n",
       " 0.14104198363419548,\n",
       " 0.1305107703062874,\n",
       " 0.11166381255266519)"
      ]
     },
     "execution_count": 61,
     "metadata": {},
     "output_type": "execute_result"
    }
   ],
   "source": [
    "executive,intermediate,entry,mid"
   ]
  },
  {
   "cell_type": "code",
   "execution_count": 82,
   "metadata": {},
   "outputs": [
    {
     "data": {
      "image/png": "[encoded data removed]",
      "text/plain": [
       "<Figure size 432x288 with 1 Axes>"
      ]
     },
     "metadata": {},
     "output_type": "display_data"
    }
   ],
   "source": [
    "# percentage of defaulters at each level\n",
    "plt.bar(data['level'].value_counts().index, [executive,intermediate,entry,mid])\n",
    "plt.title('Percent of Defaulters at Each Level')\n",
    "plt.ylabel('Percent Default');\n",
    "plt.xlabel('Experience Level');"
   ]
  }
 ],
 "metadata": {
  "kernelspec": {
   "display_name": "Python 3",
   "language": "python",
   "name": "python3"
  },
  "language_info": {
   "codemirror_mode": {
    "name": "ipython",
    "version": 3
   },
   "file_extension": ".py",
   "mimetype": "text/x-python",
   "name": "python",
   "nbconvert_exporter": "python",
   "pygments_lexer": "ipython3",
   "version": "3.8.5"
  }
 },
 "nbformat": 4,
 "nbformat_minor": 4
}
